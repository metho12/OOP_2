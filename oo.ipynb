{
 "cells": [
  {
   "cell_type": "markdown",
   "id": "79e14532",
   "metadata": {},
   "source": [
    "# -------OOP part two------- "
   ]
  },
  {
   "cell_type": "code",
   "execution_count": null,
   "id": "e0e45900",
   "metadata": {},
   "outputs": [],
   "source": [
    "#creat a class\n",
    "#add mark to student \n",
    "#see marks\n",
    "#get avg\n"
   ]
  },
  {
   "cell_type": "code",
   "execution_count": 10,
   "id": "5008aebe",
   "metadata": {},
   "outputs": [
    {
     "name": "stdout",
     "output_type": "stream",
     "text": [
      "Welcome ahmed\n",
      "[30]\n",
      "[30, 20]\n",
      "[30, 20, 10]\n",
      "20.0\n"
     ]
    }
   ],
   "source": [
    "class students:\n",
    "    \n",
    "    \n",
    "    def __init__ (self,name):\n",
    "        print (f'Welcome {name}')\n",
    "        self.marks = []\n",
    "    def add_marks(self,mark):\n",
    "        self.marks.append(mark)\n",
    "        print (self.marks)\n",
    "        \n",
    "    def get_avg(self):\n",
    "        \n",
    "        avg = sum(self.marks)/len(self.marks)\n",
    "        print(avg)\n",
    "        \n",
    "s1 = students('ahmed')\n",
    "s1.add_marks(30)\n",
    "s1.add_marks(20)\n",
    "s1.add_marks(10)\n",
    "s1.get_avg()    "
   ]
  },
  {
   "cell_type": "code",
   "execution_count": 11,
   "id": "c1e2d548",
   "metadata": {},
   "outputs": [],
   "source": [
    "#app of bank \n",
    "\n",
    "# create account [name-age-gender]\n",
    "#add deposite \n",
    "#widthdraw\n",
    "#see details\n"
   ]
  },
  {
   "cell_type": "code",
   "execution_count": 15,
   "id": "3ea854bd",
   "metadata": {},
   "outputs": [
    {
     "name": "stdout",
     "output_type": "stream",
     "text": [
      "welcomeahmed\n",
      "Personal Details\n",
      "Name :ahmed\n",
      "age :30\n",
      "gender :male\n"
     ]
    }
   ],
   "source": [
    "class Bank:\n",
    "    def __init__ (self,name,age,gender):\n",
    "        print(f'welcome{name}')\n",
    "        self.name = name\n",
    "        self.age = age\n",
    "        self.gender =gender\n",
    "        \n",
    "    def show_details(self):\n",
    "        print ('Personal Details')\n",
    "        print (f'Name :{self.name}')\n",
    "        print(f'age :{self.age}')\n",
    "        print(f'gender :{self.gender}')\n",
    "\n",
    "u1 = Bank('ahmed',30,'male')\n",
    "u1.show_details()\n",
    "        "
   ]
  },
  {
   "cell_type": "code",
   "execution_count": 25,
   "id": "9bebafac",
   "metadata": {},
   "outputs": [
    {
     "name": "stdout",
     "output_type": "stream",
     "text": [
      "welcome ahmed\n"
     ]
    }
   ],
   "source": [
    "class user:\n",
    "    def __init__ (self,name,age,gender):\n",
    "        print(f'welcome {name}')\n",
    "        self.name = name \n",
    "        self.age = age \n",
    "        self.gender = gender\n",
    "     \n",
    "    \n",
    "    def show_details(self):\n",
    "        print('personal details')\n",
    "        print(f'name : {self.name}')\n",
    "        print(f'Age : {self.age}')\n",
    "        print(f'Gender : {self.Gender}')\n",
    "        \n",
    "class Bank(user):\n",
    "    \n",
    "    def __init__ (self,name,age,gender):\n",
    "        super().__init__ (name,age,gender)\n",
    "        self.balance = 0\n",
    "       \n",
    "    def deposite (self,amount):\n",
    "        pass    \n",
    "    def withdraw (self,amount):\n",
    "        pass\n",
    "    \n",
    "    \n",
    "u1=Bank ('ahmed',30,'male')\n",
    "\n",
    "\n"
   ]
  },
  {
   "cell_type": "code",
   "execution_count": null,
   "id": "c4256869",
   "metadata": {},
   "outputs": [],
   "source": []
  },
  {
   "cell_type": "code",
   "execution_count": null,
   "id": "e58b2ca6",
   "metadata": {},
   "outputs": [],
   "source": []
  }
 ],
 "metadata": {
  "kernelspec": {
   "display_name": "Python 3 (ipykernel)",
   "language": "python",
   "name": "python3"
  },
  "language_info": {
   "codemirror_mode": {
    "name": "ipython",
    "version": 3
   },
   "file_extension": ".py",
   "mimetype": "text/x-python",
   "name": "python",
   "nbconvert_exporter": "python",
   "pygments_lexer": "ipython3",
   "version": "3.9.12"
  }
 },
 "nbformat": 4,
 "nbformat_minor": 5
}
